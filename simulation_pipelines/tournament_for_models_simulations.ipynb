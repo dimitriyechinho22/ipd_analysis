{
 "cells": [
  {
   "cell_type": "code",
   "execution_count": null,
   "metadata": {},
   "outputs": [],
   "source": [
    "import random\n",
    "\n",
    "import pandas as pd\n",
    "import numpy as np\n",
    "import itertools\n",
    "import axelrod as axl\n",
    "\n",
    "\n"
   ]
  },
  {
   "cell_type": "code",
   "execution_count": null,
   "metadata": {},
   "outputs": [],
   "source": [
    "from joblib import Parallel, delayed\n",
    "import xgboost as xgb\n"
   ]
  },
  {
   "cell_type": "code",
   "execution_count": null,
   "metadata": {},
   "outputs": [],
   "source": [
    "strategies = [axl.Raider(),axl.Cooperator(), axl.GrudgerAlternator(), axl.EvolvedANNNoise05(), axl.Forgiver()] #----- input of agents\n"
   ]
  },
  {
   "cell_type": "code",
   "execution_count": null,
   "metadata": {},
   "outputs": [],
   "source": [
    "strategy_order = [player.__class__.__name__ for player in strategies]\n",
    "\n",
    "strategy_mapping = {name: player.__class__ for name, player in zip(strategy_order, strategies)}\n",
    "\n",
    "strategy_mapping"
   ]
  },
  {
   "cell_type": "code",
   "execution_count": null,
   "metadata": {},
   "outputs": [],
   "source": [
    "MAX_COUNT = 5          # each strategy appears between 0 and 5 times\n",
    "NUM_TOTAL_COMPS = (MAX_COUNT+1) ** len(strategy_order)  # 6^5 = 7776\n",
    "NUM_SIMULATIONS = 5000   # number of tournaments to simulate (sampled from all compositions)\n",
    "TOURNS = 200           # turns per tournament\n",
    "REPETITIONS = 10      # repetitions per tournament\n",
    "\n",
    "\n",
    "def get_tournament_winners_by_score(results, players, use_normalised=True):\n",
    "    if use_normalised:\n",
    "        if hasattr(results.normalised_scores, \"compute\"):\n",
    "            scores_matrix = np.array(results.normalised_scores.compute())\n",
    "        else:\n",
    "            scores_matrix = np.array(results.normalised_scores)\n",
    "    else:\n",
    "        if hasattr(results.scores, \"compute\"):\n",
    "            scores_matrix = np.array(results.scores.compute())\n",
    "        else:\n",
    "            scores_matrix = np.array(results.scores)\n",
    "    average_scores = [np.mean(scores) for scores in scores_matrix]\n",
    "    score_dict = {player.__class__.__name__: avg for player, avg in zip(players, average_scores)}\n",
    "    print(\"Average scores:\", score_dict)\n",
    "    max_score = max(average_scores)\n",
    "    winners = [\n",
    "        player.__class__.__name__ for player, avg in zip(players, average_scores)\n",
    "        if abs(avg - max_score) < 0.001\n",
    "    ]\n",
    "    unique_winners = []\n",
    "    for w in winners:\n",
    "        if w not in unique_winners:\n",
    "            unique_winners.append(w)\n",
    "    print(\"Winners for this tournament:\", unique_winners, \"\\n\")\n",
    "    return unique_winners\n",
    "\n",
    "def run_single_tournament(composition, turns=TOURNS, repetitions=REPETITIONS):\n",
    "    players = []\n",
    "    for count, strat_name in zip(composition, strategy_order):\n",
    "        for _ in range(count):\n",
    "            players.append(strategy_mapping[strat_name]())\n",
    "    print(\"Tournament composition:\", composition)\n",
    "    tourn = axl.Tournament(players, turns=turns, repetitions=repetitions)\n",
    "    results_tourn = tourn.play()\n",
    "    coop_matrix = results_tourn.cooperation\n",
    "    total_cooperations = sum(sum(row) for row in coop_matrix)\n",
    "    total_moves = len(coop_matrix) ** 2 * repetitions\n",
    "    coop_rate = total_cooperations / total_moves if total_moves > 0 else 0.0\n",
    "    winners = get_tournament_winners_by_score(results_tourn, players)\n",
    "    return {\n",
    "        \"composition\": composition,\n",
    "        \"coop_rate\": coop_rate,\n",
    "        \"winning_strategy\": winners\n",
    "    }"
   ]
  },
  {
   "cell_type": "code",
   "execution_count": null,
   "metadata": {},
   "outputs": [],
   "source": [
    "all_comps = [tuple(x) for x in itertools.product(range(MAX_COUNT + 1), repeat=len(strategy_order))]\n",
    "all_comps = [x for x in all_comps if any(x)]\n",
    "\n",
    "print(\"Total possible compositions:\", len(all_comps))  # Should be 7776\n",
    "\n",
    "# Randomly sample NUM_SIMULATIONS compositions from the full space.\n",
    "selected_comps = random.sample(all_comps, NUM_SIMULATIONS)\n",
    "print(\"Selected compositions for simulation:\", len(selected_comps))\n",
    "\n",
    "\n",
    "def run_single_tournament_wrapper(comp, idx):\n",
    "    print(f\"Starting tournament simulation {idx+1} of {NUM_SIMULATIONS}\")\n",
    "    return run_single_tournament(list(comp), turns=TOURNS, repetitions=REPETITIONS)\n",
    "\n",
    "# Run the simulations in parallel.\n",
    "from joblib import Parallel, delayed\n",
    "sim_results = Parallel(n_jobs=-1, verbose=10)(\n",
    "    delayed(run_single_tournament_wrapper)(comp, idx) for idx, comp in enumerate(selected_comps)\n",
    ")"
   ]
  },
  {
   "cell_type": "code",
   "execution_count": null,
   "metadata": {},
   "outputs": [],
   "source": [
    "df_experiments = pd.DataFrame(sim_results)\n"
   ]
  }
 ],
 "metadata": {
  "language_info": {
   "name": "python"
  }
 },
 "nbformat": 4,
 "nbformat_minor": 2
}
